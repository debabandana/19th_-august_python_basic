{
 "cells": [
  {
   "cell_type": "code",
   "execution_count": 34,
   "id": "05ea3417-d797-4a0c-9e57-287d104841fe",
   "metadata": {},
   "outputs": [
    {
     "name": "stdin",
     "output_type": "stream",
     "text": [
      "Enter X number:  23\n",
      "Enter Y number:  56\n"
     ]
    },
    {
     "name": "stdout",
     "output_type": "stream",
     "text": [
      "56 23\n"
     ]
    }
   ],
   "source": [
    "''''swaping value of x,y'''\n",
    "x=int(input(\"Enter X number: \"))\n",
    "y=int(input(\"Enter Y number: \"))\n",
    "x=x+y\n",
    "y=x-y\n",
    "x=x-y\n",
    "print(x,y)\n"
   ]
  },
  {
   "cell_type": "code",
   "execution_count": 18,
   "id": "7c55ae2e-25b6-481a-a58b-36e088dc85e2",
   "metadata": {},
   "outputs": [
    {
     "name": "stdin",
     "output_type": "stream",
     "text": [
      " 2\n",
      " 3\n"
     ]
    },
    {
     "name": "stdout",
     "output_type": "stream",
     "text": [
      "6\n"
     ]
    }
   ],
   "source": [
    "'''Area of Rectangle'''''\n",
    "length=float(input())\n",
    "width=float(input())\n",
    "area=length*width\n",
    "print(area)"
   ]
  },
  {
   "cell_type": "code",
   "execution_count": 19,
   "id": "d0ab6308-d171-4b41-9bb5-4b8198fd9b1f",
   "metadata": {},
   "outputs": [
    {
     "name": "stdin",
     "output_type": "stream",
     "text": [
      " 30\n"
     ]
    },
    {
     "name": "stdout",
     "output_type": "stream",
     "text": [
      "86.0\n"
     ]
    }
   ],
   "source": [
    "'''celsius to farenehite conversion'''\n",
    "temp_cel=float(input())\n",
    "temp_far=temp_cel*(9/5)+32\n",
    "print(temp_far)\n",
    "\n"
   ]
  },
  {
   "cell_type": "code",
   "execution_count": 37,
   "id": "648dda30-759c-490b-be2b-88b4fa7f25b5",
   "metadata": {},
   "outputs": [
    {
     "name": "stdin",
     "output_type": "stream",
     "text": [
      "Enter the string: hello\n"
     ]
    },
    {
     "name": "stdout",
     "output_type": "stream",
     "text": [
      "5\n"
     ]
    }
   ],
   "source": [
    "#String based'''\n",
    "#question 1\n",
    "p=input('Enter the string:')\n",
    "print(len(p))"
   ]
  },
  {
   "cell_type": "code",
   "execution_count": 39,
   "id": "037f83ed-b1cd-4149-bb40-afb181bc6616",
   "metadata": {},
   "outputs": [
    {
     "name": "stdin",
     "output_type": "stream",
     "text": [
      "Enter the string: how are you\n"
     ]
    },
    {
     "name": "stdout",
     "output_type": "stream",
     "text": [
      "uoy era woh\n"
     ]
    }
   ],
   "source": [
    "#String based'''\n",
    "#question 3\n",
    "p=input('Enter the string:')\n",
    "q=p[::-1]\n",
    "print(q)"
   ]
  },
  {
   "cell_type": "code",
   "execution_count": 51,
   "id": "629a0189-e52e-4285-b39c-dc89bddafcfc",
   "metadata": {},
   "outputs": [
    {
     "ename": "SyntaxError",
     "evalue": "invalid syntax (2575377348.py, line 4)",
     "output_type": "error",
     "traceback": [
      "\u001b[0;36m  Cell \u001b[0;32mIn[51], line 4\u001b[0;36m\u001b[0m\n\u001b[0;31m    p.replace('',:/)\u001b[0m\n\u001b[0m                 ^\u001b[0m\n\u001b[0;31mSyntaxError\u001b[0m\u001b[0;31m:\u001b[0m invalid syntax\n"
     ]
    }
   ],
   "source": [
    "#String based'''\n",
    "#question 5\n",
    "p=input('Enter the string:')\n",
    "p.replace()"
   ]
  },
  {
   "cell_type": "code",
   "execution_count": 52,
   "id": "db2dd603-c23c-4ebd-91ad-05e0c71d60a5",
   "metadata": {},
   "outputs": [
    {
     "ename": "SyntaxError",
     "evalue": "invalid syntax. Maybe you meant '==' or ':=' instead of '='? (1412274580.py, line 4)",
     "output_type": "error",
     "traceback": [
      "\u001b[0;36m  Cell \u001b[0;32mIn[52], line 4\u001b[0;36m\u001b[0m\n\u001b[0;31m    for (i=0, p[].find('a:e:i:o:u'),i++)\u001b[0m\n\u001b[0m         ^\u001b[0m\n\u001b[0;31mSyntaxError\u001b[0m\u001b[0;31m:\u001b[0m invalid syntax. Maybe you meant '==' or ':=' instead of '='?\n"
     ]
    }
   ],
   "source": [
    "#String based'''\n",
    "#question 2\n",
    "p=input('Enter the string:')\n",
    "if\n",
    "x=i+1\n",
    "print(x)\n"
   ]
  },
  {
   "cell_type": "code",
   "execution_count": null,
   "id": "40589363-38ab-4699-a905-a202a53dcda3",
   "metadata": {},
   "outputs": [],
   "source": []
  }
 ],
 "metadata": {
  "kernelspec": {
   "display_name": "Python 3 (ipykernel)",
   "language": "python",
   "name": "python3"
  },
  "language_info": {
   "codemirror_mode": {
    "name": "ipython",
    "version": 3
   },
   "file_extension": ".py",
   "mimetype": "text/x-python",
   "name": "python",
   "nbconvert_exporter": "python",
   "pygments_lexer": "ipython3",
   "version": "3.10.8"
  }
 },
 "nbformat": 4,
 "nbformat_minor": 5
}
